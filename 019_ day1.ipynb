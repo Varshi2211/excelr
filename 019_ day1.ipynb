{
 "cells": [
  {
   "cell_type": "code",
   "execution_count": 1,
   "id": "2653b864",
   "metadata": {},
   "outputs": [
    {
     "name": "stdout",
     "output_type": "stream",
     "text": [
      "Integer variable: 10  Type: <class 'int'>\n",
      "Float variable: 3.14  Type: <class 'float'>\n",
      "String variable: Hello, World!  Type: <class 'str'>\n",
      "Boolean variable: True  Type: <class 'bool'>\n"
     ]
    }
   ],
   "source": [
    "#!/usr/bin/env python\n",
    "# coding: utf-8\n",
    "\n",
    "# In[2]:\n",
    "\n",
    "\n",
    "integer_var = 10\n",
    "float_var = 3.14\n",
    "string_var = \"Hello, World!\"\n",
    "boolean_var = True\n",
    "\n",
    "print(\"Integer variable:\", integer_var, \" Type:\", type(integer_var))\n",
    "print(\"Float variable:\", float_var, \" Type:\", type(float_var))\n",
    "print(\"String variable:\", string_var, \" Type:\", type(string_var))\n",
    "print(\"Boolean variable:\", boolean_var, \" Type:\", type(boolean_var))\n",
    "\n",
    "\n",
    "# In[ ]:"
   ]
  },
  {
   "cell_type": "code",
   "execution_count": null,
   "id": "80479dee",
   "metadata": {},
   "outputs": [],
   "source": []
  }
 ],
 "metadata": {
  "kernelspec": {
   "display_name": "Python 3 (ipykernel)",
   "language": "python",
   "name": "python3"
  },
  "language_info": {
   "codemirror_mode": {
    "name": "ipython",
    "version": 3
   },
   "file_extension": ".py",
   "mimetype": "text/x-python",
   "name": "python",
   "nbconvert_exporter": "python",
   "pygments_lexer": "ipython3",
   "version": "3.9.13"
  }
 },
 "nbformat": 4,
 "nbformat_minor": 5
}
